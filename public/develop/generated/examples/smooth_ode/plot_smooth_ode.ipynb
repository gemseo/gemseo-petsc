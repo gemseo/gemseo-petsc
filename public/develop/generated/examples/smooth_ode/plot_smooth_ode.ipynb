{
  "cells": [
    {
      "cell_type": "code",
      "execution_count": null,
      "metadata": {
        "collapsed": false
      },
      "outputs": [],
      "source": [
        "%matplotlib inline"
      ]
    },
    {
      "cell_type": "markdown",
      "metadata": {},
      "source": [
        "# Solve an Initial Value Problem\n\nLet us consider an Initial Value Problem (IVP),\nconsisting of an Ordinary Differential Equation (ODE),\npotentially depending on a set of design variables,\na time interval,\nand a set of initial conditions for the state of the system.\n"
      ]
    },
    {
      "cell_type": "code",
      "execution_count": null,
      "metadata": {
        "collapsed": false
      },
      "outputs": [],
      "source": [
        "from gemseo.algos.ode.factory import ODESolverLibraryFactory\nfrom gemseo.algos.ode.ode_problem import ODEProblem\nfrom gemseo.typing import RealArray\nfrom matplotlib import pyplot as plt\nfrom numpy import array\nfrom numpy import atleast_1d\nfrom numpy import linspace\nfrom numpy import zeros"
      ]
    },
    {
      "cell_type": "markdown",
      "metadata": {},
      "source": [
        "Let us consider the following IVP:\n\n$$\n    \\frac{dy(t)}{dt} = k t y^2\n$$\n\nwhere $t$ denotes the time, $y$ is the state variable,\nand $k$ is a design parameter.\n\n"
      ]
    },
    {
      "cell_type": "markdown",
      "metadata": {},
      "source": [
        "We define an initial state and a time interval for the IVP,\nas well as a design parameter $k$.\n\n"
      ]
    },
    {
      "cell_type": "code",
      "execution_count": null,
      "metadata": {
        "collapsed": false
      },
      "outputs": [],
      "source": [
        "init_state = 1.0\ntimes = linspace(0.0, 0.5, 51)\nk = 1.0"
      ]
    },
    {
      "cell_type": "markdown",
      "metadata": {},
      "source": [
        "The function defining the dynamics of the ODE is the following:\n\n"
      ]
    },
    {
      "cell_type": "code",
      "execution_count": null,
      "metadata": {
        "collapsed": false
      },
      "outputs": [],
      "source": [
        "def rhs_func(t: float, y: RealArray, k: float) -> RealArray:\n    st_dot = y.copy()\n    st_dot[0] = k * t * y[0] ** 2\n    return st_dot"
      ]
    },
    {
      "cell_type": "markdown",
      "metadata": {},
      "source": [
        "We define the Jacobian of the dynamics with respect to the state.\n\n"
      ]
    },
    {
      "cell_type": "code",
      "execution_count": null,
      "metadata": {
        "collapsed": false
      },
      "outputs": [],
      "source": [
        "def compute_jac_wrt_state(\n    t: float,\n    y: RealArray,\n    k: float,\n) -> RealArray:\n    jac_wrt_state = k * 2 * t * y[0]\n    return array([[jac_wrt_state]])"
      ]
    },
    {
      "cell_type": "markdown",
      "metadata": {},
      "source": [
        "These functions are assembled into an\n[ODEProblem][gemseo.algos.ode.ode_problem.ODEProblem].\n\n"
      ]
    },
    {
      "cell_type": "code",
      "execution_count": null,
      "metadata": {
        "collapsed": false
      },
      "outputs": [],
      "source": [
        "class SmoothODEProblem(ODEProblem):\n    def __init__(self) -> None:  # noqa: D107\n        self.__jac_wrt_state = zeros((1, 1))\n        self.__k = k\n        super().__init__(\n            self.__compute_rhs_func,\n            jac_function_wrt_state=self.__compute_jac_wrt_state,\n            initial_state=atleast_1d(init_state),\n            times=times,\n        )\n\n        self.__jac_wrt_desvar = zeros((1, 1))\n\n    def __compute_rhs_func(self, time, state):\n        return rhs_func(time, state, self.__k)\n\n    def __compute_jac_wrt_state(self, time, state):\n        self.__jac_wrt_state[0, 0] = compute_jac_wrt_state(time, state, self.__k)\n        return self.__jac_wrt_state\n\n\nproblem = SmoothODEProblem()"
      ]
    },
    {
      "cell_type": "markdown",
      "metadata": {},
      "source": [
        "The IVP can be solved using the algorithms provided by `gemseo-petsc`.\nAs an example, here the solution to the IVP is found using\nthe Runge-Kutta algorithm.\n\n"
      ]
    },
    {
      "cell_type": "code",
      "execution_count": null,
      "metadata": {
        "collapsed": false
      },
      "outputs": [],
      "source": [
        "ODESolverLibraryFactory().execute(\n    problem,\n    algo_name=\"PETSC_ODE_RK\",\n    time_step=1e-2,\n    maximum_steps=1000,\n    rtol=1e-3,\n    use_jacobian=True,\n)"
      ]
    },
    {
      "cell_type": "markdown",
      "metadata": {},
      "source": [
        "The numerical solution can be compared with the analytical solution of the ODE.\n\n$$\n    y(t) = \\frac{ 2 y_0}{2 - k t^2 y_0}.\n$$\n\n\n"
      ]
    },
    {
      "cell_type": "code",
      "execution_count": null,
      "metadata": {
        "collapsed": false
      },
      "outputs": [],
      "source": [
        "analytical_sol = 2.0 * init_state / (2.0 - k * times * times * init_state)\nerror = abs(analytical_sol - problem.result.state_trajectories[0])\n\nplt.semilogy(times, error)\nplt.title(\"Integration error\")\nplt.show()"
      ]
    }
  ],
  "metadata": {
    "kernelspec": {
      "display_name": "Python 3",
      "language": "python",
      "name": "python3"
    },
    "language_info": {
      "codemirror_mode": {
        "name": "ipython",
        "version": 3
      },
      "file_extension": ".py",
      "mimetype": "text/x-python",
      "name": "python",
      "nbconvert_exporter": "python",
      "pygments_lexer": "ipython3",
      "version": "3.9.21"
    }
  },
  "nbformat": 4,
  "nbformat_minor": 0
}