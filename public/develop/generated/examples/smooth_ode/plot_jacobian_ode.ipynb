{
  "cells": [
    {
      "cell_type": "code",
      "execution_count": null,
      "metadata": {
        "collapsed": false
      },
      "outputs": [],
      "source": [
        "%matplotlib inline"
      ]
    },
    {
      "cell_type": "markdown",
      "metadata": {},
      "source": [
        "# Compute the Jacobian of the solution of an ODE\n\nLet us consider an Initial Value Problem (IVP),\nconsisting of an Ordinary Differential Equation (ODE),\npotentially depending on a set of design variables,\na time interval,\nand a set of initial conditions for the state of the system.\n\nWe are interested in computing the sensitivity of the solution\nwith respect to the initial conditions and eventual design variables\npresent in the expression of the ODE.\n"
      ]
    },
    {
      "cell_type": "code",
      "execution_count": null,
      "metadata": {
        "collapsed": false
      },
      "outputs": [],
      "source": [
        "from gemseo.algos.ode.factory import ODESolverLibraryFactory\nfrom gemseo.algos.ode.ode_problem import ODEProblem\nfrom gemseo.typing import RealArray\nfrom numpy import atleast_1d\nfrom numpy import linspace\nfrom numpy import zeros"
      ]
    },
    {
      "cell_type": "markdown",
      "metadata": {},
      "source": [
        "Let us consider the same IVP presented in the example about the\n[Solution of an Initial Value Problem](../plot_smooth_ode):\n\n$$\n    \\frac{dy(t)}{dt} = k t y^2\n$$\n\nwhere $t$ denotes the time, $y$ is the state variable,\nand $k$ is a design parameter.\n\n"
      ]
    },
    {
      "cell_type": "code",
      "execution_count": null,
      "metadata": {
        "collapsed": false
      },
      "outputs": [],
      "source": [
        "init_state = 1.0\nfinal_time = 0.5\ntimes = linspace(0.0, final_time, 51)\nk = 1.0"
      ]
    },
    {
      "cell_type": "markdown",
      "metadata": {},
      "source": [
        "The function defining the dynamics of the ODE is the following:\n\n"
      ]
    },
    {
      "cell_type": "code",
      "execution_count": null,
      "metadata": {
        "collapsed": false
      },
      "outputs": [],
      "source": [
        "def rhs_func(t: float, y: RealArray, k: float) -> RealArray:\n    st_dot = y.copy()\n    st_dot[0] = k * t * y[0] ** 2\n    return st_dot"
      ]
    },
    {
      "cell_type": "markdown",
      "metadata": {},
      "source": [
        "We provide the Jacobian of the dynamics with respect to the state\nand to the design variables.\n\n"
      ]
    },
    {
      "cell_type": "code",
      "execution_count": null,
      "metadata": {
        "collapsed": false
      },
      "outputs": [],
      "source": [
        "def compute_jac_wrt_state(\n    t: float,\n    y: RealArray,\n    k: float,\n) -> RealArray:\n    return k * 2 * t * y[0]\n\n\ndef compute_jac_wrt_desvar(\n    t: float,\n    y: RealArray,\n    k: float,\n) -> RealArray:\n    return t * y[0] ** 2"
      ]
    },
    {
      "cell_type": "markdown",
      "metadata": {},
      "source": [
        "These functions are assembled into an\n[ODEProblem][gemseo.algos.ode.ode_problem.ODEProblem].\n\n"
      ]
    },
    {
      "cell_type": "code",
      "execution_count": null,
      "metadata": {
        "collapsed": false
      },
      "outputs": [],
      "source": [
        "class SmoothODEProblem(ODEProblem):\n    def __init__(self) -> None:  # noqa: D107\n        self.__jac_wrt_state = zeros((1, 1))\n        self.__k = k\n        super().__init__(\n            self.__compute_rhs_func,\n            jac_function_wrt_state=self.__compute_jac_wrt_state,\n            jac_function_wrt_desvar=self.__compute_jac_wrt_desvar,\n            initial_state=atleast_1d(init_state),\n            times=times,\n        )\n\n        self.__jac_wrt_desvar = zeros((1, 1))\n\n    def __compute_rhs_func(self, time, state):\n        return rhs_func(time, state, self.__k)\n\n    def __compute_jac_wrt_state(self, time, state):\n        self.__jac_wrt_state[0, 0] = compute_jac_wrt_state(time, state, self.__k)\n        return self.__jac_wrt_state\n\n    def __compute_jac_wrt_desvar(self, time, state):\n        self.__jac_wrt_desvar[0, 0] = compute_jac_wrt_desvar(time, state, self.__k)\n        return self.__jac_wrt_desvar\n\n\nproblem = SmoothODEProblem()"
      ]
    },
    {
      "cell_type": "markdown",
      "metadata": {},
      "source": [
        "By setting the parameter `compute_adjoint` to `True`\nin `ODESolverLibraryFactory().execute()`,\nthe PETSc solver computes the sensitivity of the solution of the ODE with respect\nto the initial conditions of the IVP and to the design variables\nby solving a suitable adjoint problem.\n\n"
      ]
    },
    {
      "cell_type": "markdown",
      "metadata": {},
      "source": [
        "In order to solve the adjoint problem backwards in time,\nPETSc stores some intermediary values of the state under a checkpoint system.\nThe checkpoints can be stored either on disk or on RAM.\nThe storage of checkpoints on the RAM can be enabled by setting the optional parameter\n`use_memory_checkpoints` to `True`.\nThe maximal number of checkpoints to be stored on disk or on the RAM\ncan be controlled by the optional parameters `max_disk_checkpoints`\nand `max_memory_checkpoints`.\n\n"
      ]
    },
    {
      "cell_type": "code",
      "execution_count": null,
      "metadata": {
        "collapsed": false
      },
      "outputs": [],
      "source": [
        "ODESolverLibraryFactory().execute(\n    problem,\n    algo_name=\"PETSC_ODE_RK\",\n    time_step=1e-2,\n    maximum_steps=1000,\n    rtol=1e-3,\n    use_jacobian=True,\n    compute_adjoint=True,\n    use_memory_checkpoints=True,\n)"
      ]
    },
    {
      "cell_type": "markdown",
      "metadata": {},
      "source": [
        "The Jacobian of the solution of the IVP with respect to the initial conditions\nand the design variables can be found respectively in the attributes\n`jac_wrt_initial_state` and `jac_wrt_desvar` of `problem.result`.\n\n"
      ]
    },
    {
      "cell_type": "markdown",
      "metadata": {},
      "source": [
        "The Jacobians computed by PETSc can be compared with their analytical counterparts.\nBy knowing that the exact solution of the IVP is\n$y(t) = \\frac{ 2 y_0}{2 - k t^2 y_0}$, the Jacobians of the solution with respect to\n$y_0$ and $k$ are:\n\n$$\nJ_{y_0} = \\left[\\frac{4}{(2 - k t^2 y_0)^2}\\right]\n$$\n\n$$\nJ_{k} = \\left[\\frac{2 y_0^2 t^2}{(2 - k t^2 y_0)^2}\\right]\n$$\n\n\n"
      ]
    },
    {
      "cell_type": "code",
      "execution_count": null,
      "metadata": {
        "collapsed": false
      },
      "outputs": [],
      "source": [
        "analytical_jac_initial_state = 4.0 / (2 - k * final_time**2 * init_state) ** 2\nanalytical_jac_desvar = (\n    2 * init_state**2 * final_time**2 / (2 - k * final_time**2 * init_state) ** 2\n)\n\nerror_jac_initial_state = abs(\n    analytical_jac_initial_state - problem.result.jac_wrt_initial_state[0, 0]\n)\n\nerror_jac_desvar = abs(analytical_jac_desvar - problem.result.jac_wrt_desvar[0, 0])\n\nprint(\n    f\"Jacobian with respect to the initial state: \\n\"\n    f\"     absolute error = {error_jac_initial_state}, \"\n    f\"     relative error = {error_jac_initial_state / analytical_jac_initial_state}\"\n)\n\nprint(\n    f\"Jacobian with respect to the design variable: \\n\"\n    f\"     absolute error = {error_jac_desvar}, \"\n    f\"     relative error = {error_jac_desvar / analytical_jac_desvar}\"\n)"
      ]
    }
  ],
  "metadata": {
    "kernelspec": {
      "display_name": "Python 3",
      "language": "python",
      "name": "python3"
    },
    "language_info": {
      "codemirror_mode": {
        "name": "ipython",
        "version": 3
      },
      "file_extension": ".py",
      "mimetype": "text/x-python",
      "name": "python",
      "nbconvert_exporter": "python",
      "pygments_lexer": "ipython3",
      "version": "3.9.21"
    }
  },
  "nbformat": 4,
  "nbformat_minor": 0
}